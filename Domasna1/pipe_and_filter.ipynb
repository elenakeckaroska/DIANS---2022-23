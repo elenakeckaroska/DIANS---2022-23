{
 "cells": [
  {
   "cell_type": "markdown",
   "source": [
    "# Pipe and Filter"
   ],
   "metadata": {
    "collapsed": false,
    "pycharm": {
     "name": "#%% md\n"
    }
   }
  },
  {
   "cell_type": "code",
   "execution_count": 134,
   "outputs": [],
   "source": [
    "import pandas as pd\n",
    "import json\n",
    "import numpy as np"
   ],
   "metadata": {
    "collapsed": false,
    "pycharm": {
     "name": "#%%\n"
    }
   }
  },
  {
   "cell_type": "code",
   "execution_count": 135,
   "outputs": [],
   "source": [
    "file_names = {'skopje_data.json': ('Skopje', 'Скопје', 1000),\n",
    "              'berovo_data.json': ('Berovo', 'Берово', 2330),\n",
    "              'bitola_data.json': ('Bitola', 'Битола', 7000),\n",
    "              'gevgelija_data.json': ('Gevgelija', 'Гевгелија', 1480),\n",
    "              'kavadarci_data.json': ('Kavadarci', 'Кавадарци', 1430),\n",
    "              'kumanovo_data.json': ('Kumanovo', 'Куманово', 1300),\n",
    "              'ohrid_data.json': ('Ohrid', 'Охрид', 6000),\n",
    "              'prilep_data.json': ('Prilep', 'Прилеп', 7500),\n",
    "              'strumica_data.json': ('Strumica', 'Струмица', 2400),\n",
    "              'tetovo_data.json': ('Tetovo', 'Тетово', 1200),\n",
    "              'struga_data.json': ('Struga', 'Струга', 6330)\n",
    "              }"
   ],
   "metadata": {
    "collapsed": false,
    "pycharm": {
     "name": "#%%\n"
    }
   }
  },
  {
   "cell_type": "code",
   "execution_count": 136,
   "outputs": [],
   "source": [
    "main_dataset = None\n",
    "for k, v in file_names.items():\n",
    "    city_en, city_mk, post_code = v\n",
    "    data = json.load(open(k, encoding=\"utf8\"))\n",
    "    df = pd.json_normalize(data['elements'])\n",
    "\n",
    "    df['tags.addr:city'] = city_en\n",
    "    df['tags.addr:city:en'] = city_mk\n",
    "    df.rename(columns={'tags.addr:city': 'tags.addr:city:mk'})\n",
    "\n",
    "    df['tags.addr:postcode'] = post_code\n",
    "    df['tags.addr:postcode'].astype('int64')\n",
    "\n",
    "    if k == 'skopje_data.json':\n",
    "        main_dataset = df\n",
    "    else:\n",
    "        main_dataset = pd.concat([main_dataset, df], axis=0, ignore_index=True)"
   ],
   "metadata": {
    "collapsed": false,
    "pycharm": {
     "name": "#%%\n"
    }
   }
  },
  {
   "cell_type": "code",
   "execution_count": 137,
   "outputs": [],
   "source": [
    "class Filter:\n",
    "    def execute(self, df):\n",
    "        pass\n",
    "\n",
    "\n",
    "class Pipe:\n",
    "    def __init__(self) -> None:\n",
    "        super().__init__()\n",
    "        self.filters = list()\n",
    "\n",
    "    def add_filter(self, filter):\n",
    "        self.filters.append(filter)\n",
    "\n",
    "    def run_filters(self, df):\n",
    "        for filter in self.filters:\n",
    "            df = filter.execute(df)\n",
    "        return df.reset_index()"
   ],
   "metadata": {
    "collapsed": false,
    "pycharm": {
     "name": "#%%\n"
    }
   }
  },
  {
   "cell_type": "code",
   "execution_count": 138,
   "outputs": [],
   "source": [
    "class SelectAttributesFilter(Filter):\n",
    "    def execute(self, df):\n",
    "        return df[['lat', 'lon', 'tags.name', 'tags.tourism', 'tags.website', 'tags.stars',\n",
    "                 'tags.email', 'tags.phone', 'tags.addr:city', 'tags.addr:city:en',\n",
    "                 'tags.addr:postcode', 'tags.addr:street:en', 'tags.addr:street:mk', 'tags.addr:housenumber',\n",
    "                 'tags.smoking', 'tags.rooms', 'tags.internet_access', 'tags.internet_access:fee']]"
   ],
   "metadata": {
    "collapsed": false,
    "pycharm": {
     "name": "#%%\n"
    }
   }
  },
  {
   "cell_type": "code",
   "execution_count": 139,
   "outputs": [],
   "source": [
    "class NonNullAttributeFilter(Filter):\n",
    "    def execute(self, df):\n",
    "        return df[~df['tags.name'].isna() & ~df['lat'].isna() & ~df['lon'].isna()]"
   ],
   "metadata": {
    "collapsed": false,
    "pycharm": {
     "name": "#%%\n"
    }
   }
  },
  {
   "cell_type": "code",
   "execution_count": 140,
   "outputs": [],
   "source": [
    "class TourismTagsAttributeFilter(Filter):\n",
    "    def execute(self, df):\n",
    "        return df[df['tags.tourism'].isin(['apartments', 'hotel', 'apartment', 'hostel', 'guest_house']) == True]"
   ],
   "metadata": {
    "collapsed": false,
    "pycharm": {
     "name": "#%%\n"
    }
   }
  },
  {
   "cell_type": "code",
   "execution_count": 141,
   "outputs": [],
   "source": [
    "class FormatPhoneAttributeFilter(Filter):\n",
    "    def execute(self, df):\n",
    "        df['tags.phone'] = df['tags.phone'].str.replace(' ', '')\n",
    "        return df"
   ],
   "metadata": {
    "collapsed": false,
    "pycharm": {
     "name": "#%%\n"
    }
   }
  },
  {
   "cell_type": "code",
   "execution_count": 142,
   "outputs": [],
   "source": [
    "class ReplaceNanStarAttributeFilter(Filter):\n",
    "    def execute(self, df):\n",
    "        random_stars = np.random.randint(low=1, high=6, size=len(df['tags.stars'].isna()))\n",
    "        df['tags.stars'] = np.where(df['tags.stars'].isna(), random_stars, df['tags.stars'])\n",
    "        df['tags.stars'] = df['tags.stars'].astype('int64')\n",
    "        return df"
   ],
   "metadata": {
    "collapsed": false,
    "pycharm": {
     "name": "#%%\n"
    }
   }
  },
  {
   "cell_type": "code",
   "execution_count": 143,
   "outputs": [],
   "source": [
    "class ReplaceNanSmokeAttributeFilter(Filter):\n",
    "    def execute(self, df):\n",
    "        num_missing = len(df['tags.smoking'].isna())\n",
    "        random_vector_smoking = np.random.choice(['outside', 'separated', 'isolated'], size=num_missing, p=[0.5, 0.3, 0.2])\n",
    "        bool_array = np.where(df['tags.smoking'].isna(), random_vector_smoking, df['tags.smoking'])\n",
    "        df['tags.smoking'] = bool_array\n",
    "        return df"
   ],
   "metadata": {
    "collapsed": false,
    "pycharm": {
     "name": "#%%\n"
    }
   }
  },
  {
   "cell_type": "code",
   "execution_count": 144,
   "outputs": [],
   "source": [
    "class ReplaceNanInternetAccessAttributeFilter(Filter):\n",
    "    def execute(self, df):\n",
    "        df['tags.internet_access'] = df['tags.internet_access'].replace('wlan', 'yes')\n",
    "        num_missing = len(df['tags.internet_access'].isna())\n",
    "        random_vector_internet = np.random.choice(['yes', 'no'], size=num_missing, p=[0.8, 0.2])\n",
    "        df['tags.internet_access'] = np.where(df['tags.internet_access'].isna(), random_vector_internet, df['tags.internet_access'])\n",
    "        return df"
   ],
   "metadata": {
    "collapsed": false,
    "pycharm": {
     "name": "#%%\n"
    }
   }
  },
  {
   "cell_type": "code",
   "execution_count": 145,
   "outputs": [],
   "source": [
    "class ReplaceNanInternetFeesAttributeFilter(Filter):\n",
    "    def execute(self, df):\n",
    "        num_missing = len(df['tags.internet_access:fee'].isna())\n",
    "        random_vector_internet = np.random.choice(['yes', 'no'], size=num_missing, p=[0.2, 0.8])\n",
    "        df['tags.internet_access:fee'] = np.where(df['tags.internet_access:fee'].isna(), random_vector_internet, df['tags.internet_access:fee'])\n",
    "        return df"
   ],
   "metadata": {
    "collapsed": false,
    "pycharm": {
     "name": "#%%\n"
    }
   }
  },
  {
   "cell_type": "code",
   "execution_count": 146,
   "outputs": [],
   "source": [
    "pipe = Pipe()\n",
    "pipe.add_filter(SelectAttributesFilter())\n",
    "pipe.add_filter(NonNullAttributeFilter())\n",
    "pipe.add_filter(TourismTagsAttributeFilter())\n",
    "pipe.add_filter(FormatPhoneAttributeFilter())\n",
    "pipe.add_filter(ReplaceNanStarAttributeFilter())\n",
    "pipe.add_filter(ReplaceNanSmokeAttributeFilter())\n",
    "pipe.add_filter(ReplaceNanInternetAccessAttributeFilter())\n",
    "pipe.add_filter(ReplaceNanInternetFeesAttributeFilter())\n",
    "dataset = pipe.run_filters(main_dataset)"
   ],
   "metadata": {
    "collapsed": false,
    "pycharm": {
     "name": "#%%\n"
    }
   }
  },
  {
   "cell_type": "code",
   "execution_count": 147,
   "outputs": [
    {
     "data": {
      "text/plain": "     index        lat        lon                    tags.name tags.tourism  \\\n0        2  41.976658  21.408790                  Хотел Водно        hotel   \n1        4  41.976167  21.435802               Hotel Imperial        hotel   \n2        5  41.976232  21.436215                    Sun Hotel        hotel   \n3        6  41.989939  21.454931                  hotel porta        hotel   \n4        7  41.989948  21.419851                      Хотел 7        hotel   \n..     ...        ...        ...                          ...          ...   \n222   1786  41.174682  20.672125             Marko apartments    apartment   \n223   1787  41.178900  20.678190          jovanoski apartment    apartment   \n224   1788  41.174188  20.671223  EXCLUSIVE Apartments Struga    apartment   \n225   1791  41.177585  20.675587                        Freya        hotel   \n226   1792  41.177498  20.676868                   Villa Albi    apartment   \n\n                                          tags.website  tags.stars tags.email  \\\n0    http://hotelimakedonija.com.mk/mk/Hotel/57/Hot...           3        NaN   \n1                                                  NaN           3        NaN   \n2                                                  NaN           3        NaN   \n3                        http://www.hotelporta.com.mk/           5        NaN   \n4                                                  NaN           5        NaN   \n..                                                 ...         ...        ...   \n222                                                NaN           3        NaN   \n223                                                NaN           4        NaN   \n224                                                NaN           2        NaN   \n225                                                NaN           4        NaN   \n226                                                NaN           2        NaN   \n\n    tags.phone tags.addr:city tags.addr:city:en  tags.addr:postcode  \\\n0          NaN         Skopje            Скопје                1000   \n1          NaN         Skopje            Скопје                1000   \n2          NaN         Skopje            Скопје                1000   \n3          NaN         Skopje            Скопје                1000   \n4          NaN         Skopje            Скопје                1000   \n..         ...            ...               ...                 ...   \n222        NaN         Struga            Струга                6330   \n223        NaN         Struga            Струга                6330   \n224        NaN         Struga            Струга                6330   \n225        NaN         Struga            Струга                6330   \n226        NaN         Struga            Струга                6330   \n\n    tags.addr:street:en tags.addr:street:mk tags.addr:housenumber  \\\n0                   NaN                 NaN                   NaN   \n1                   NaN                 NaN                   NaN   \n2                   NaN                 NaN                   NaN   \n3                   NaN                 NaN                   NaN   \n4                   NaN                 NaN                   NaN   \n..                  ...                 ...                   ...   \n222                 NaN                 NaN                   NaN   \n223                 NaN                 NaN                   NaN   \n224                 NaN                 NaN                   NaN   \n225                 NaN                 NaN                   NaN   \n226                 NaN                 NaN                   NaN   \n\n    tags.smoking tags.rooms tags.internet_access tags.internet_access:fee  \n0        outside        NaN                  yes                       no  \n1       isolated        NaN                  yes                       no  \n2        outside        NaN                  yes                       no  \n3        outside        NaN                  yes                       no  \n4        outside        NaN                   no                      yes  \n..           ...        ...                  ...                      ...  \n222      outside        NaN                  yes                       no  \n223    separated        NaN                  yes                       no  \n224      outside        NaN                  yes                       no  \n225     isolated        NaN                   no                       no  \n226      outside        NaN                  yes                      yes  \n\n[227 rows x 19 columns]",
      "text/html": "<div>\n<style scoped>\n    .dataframe tbody tr th:only-of-type {\n        vertical-align: middle;\n    }\n\n    .dataframe tbody tr th {\n        vertical-align: top;\n    }\n\n    .dataframe thead th {\n        text-align: right;\n    }\n</style>\n<table border=\"1\" class=\"dataframe\">\n  <thead>\n    <tr style=\"text-align: right;\">\n      <th></th>\n      <th>index</th>\n      <th>lat</th>\n      <th>lon</th>\n      <th>tags.name</th>\n      <th>tags.tourism</th>\n      <th>tags.website</th>\n      <th>tags.stars</th>\n      <th>tags.email</th>\n      <th>tags.phone</th>\n      <th>tags.addr:city</th>\n      <th>tags.addr:city:en</th>\n      <th>tags.addr:postcode</th>\n      <th>tags.addr:street:en</th>\n      <th>tags.addr:street:mk</th>\n      <th>tags.addr:housenumber</th>\n      <th>tags.smoking</th>\n      <th>tags.rooms</th>\n      <th>tags.internet_access</th>\n      <th>tags.internet_access:fee</th>\n    </tr>\n  </thead>\n  <tbody>\n    <tr>\n      <th>0</th>\n      <td>2</td>\n      <td>41.976658</td>\n      <td>21.408790</td>\n      <td>Хотел Водно</td>\n      <td>hotel</td>\n      <td>http://hotelimakedonija.com.mk/mk/Hotel/57/Hot...</td>\n      <td>3</td>\n      <td>NaN</td>\n      <td>NaN</td>\n      <td>Skopje</td>\n      <td>Скопје</td>\n      <td>1000</td>\n      <td>NaN</td>\n      <td>NaN</td>\n      <td>NaN</td>\n      <td>outside</td>\n      <td>NaN</td>\n      <td>yes</td>\n      <td>no</td>\n    </tr>\n    <tr>\n      <th>1</th>\n      <td>4</td>\n      <td>41.976167</td>\n      <td>21.435802</td>\n      <td>Hotel Imperial</td>\n      <td>hotel</td>\n      <td>NaN</td>\n      <td>3</td>\n      <td>NaN</td>\n      <td>NaN</td>\n      <td>Skopje</td>\n      <td>Скопје</td>\n      <td>1000</td>\n      <td>NaN</td>\n      <td>NaN</td>\n      <td>NaN</td>\n      <td>isolated</td>\n      <td>NaN</td>\n      <td>yes</td>\n      <td>no</td>\n    </tr>\n    <tr>\n      <th>2</th>\n      <td>5</td>\n      <td>41.976232</td>\n      <td>21.436215</td>\n      <td>Sun Hotel</td>\n      <td>hotel</td>\n      <td>NaN</td>\n      <td>3</td>\n      <td>NaN</td>\n      <td>NaN</td>\n      <td>Skopje</td>\n      <td>Скопје</td>\n      <td>1000</td>\n      <td>NaN</td>\n      <td>NaN</td>\n      <td>NaN</td>\n      <td>outside</td>\n      <td>NaN</td>\n      <td>yes</td>\n      <td>no</td>\n    </tr>\n    <tr>\n      <th>3</th>\n      <td>6</td>\n      <td>41.989939</td>\n      <td>21.454931</td>\n      <td>hotel porta</td>\n      <td>hotel</td>\n      <td>http://www.hotelporta.com.mk/</td>\n      <td>5</td>\n      <td>NaN</td>\n      <td>NaN</td>\n      <td>Skopje</td>\n      <td>Скопје</td>\n      <td>1000</td>\n      <td>NaN</td>\n      <td>NaN</td>\n      <td>NaN</td>\n      <td>outside</td>\n      <td>NaN</td>\n      <td>yes</td>\n      <td>no</td>\n    </tr>\n    <tr>\n      <th>4</th>\n      <td>7</td>\n      <td>41.989948</td>\n      <td>21.419851</td>\n      <td>Хотел 7</td>\n      <td>hotel</td>\n      <td>NaN</td>\n      <td>5</td>\n      <td>NaN</td>\n      <td>NaN</td>\n      <td>Skopje</td>\n      <td>Скопје</td>\n      <td>1000</td>\n      <td>NaN</td>\n      <td>NaN</td>\n      <td>NaN</td>\n      <td>outside</td>\n      <td>NaN</td>\n      <td>no</td>\n      <td>yes</td>\n    </tr>\n    <tr>\n      <th>...</th>\n      <td>...</td>\n      <td>...</td>\n      <td>...</td>\n      <td>...</td>\n      <td>...</td>\n      <td>...</td>\n      <td>...</td>\n      <td>...</td>\n      <td>...</td>\n      <td>...</td>\n      <td>...</td>\n      <td>...</td>\n      <td>...</td>\n      <td>...</td>\n      <td>...</td>\n      <td>...</td>\n      <td>...</td>\n      <td>...</td>\n      <td>...</td>\n    </tr>\n    <tr>\n      <th>222</th>\n      <td>1786</td>\n      <td>41.174682</td>\n      <td>20.672125</td>\n      <td>Marko apartments</td>\n      <td>apartment</td>\n      <td>NaN</td>\n      <td>3</td>\n      <td>NaN</td>\n      <td>NaN</td>\n      <td>Struga</td>\n      <td>Струга</td>\n      <td>6330</td>\n      <td>NaN</td>\n      <td>NaN</td>\n      <td>NaN</td>\n      <td>outside</td>\n      <td>NaN</td>\n      <td>yes</td>\n      <td>no</td>\n    </tr>\n    <tr>\n      <th>223</th>\n      <td>1787</td>\n      <td>41.178900</td>\n      <td>20.678190</td>\n      <td>jovanoski apartment</td>\n      <td>apartment</td>\n      <td>NaN</td>\n      <td>4</td>\n      <td>NaN</td>\n      <td>NaN</td>\n      <td>Struga</td>\n      <td>Струга</td>\n      <td>6330</td>\n      <td>NaN</td>\n      <td>NaN</td>\n      <td>NaN</td>\n      <td>separated</td>\n      <td>NaN</td>\n      <td>yes</td>\n      <td>no</td>\n    </tr>\n    <tr>\n      <th>224</th>\n      <td>1788</td>\n      <td>41.174188</td>\n      <td>20.671223</td>\n      <td>EXCLUSIVE Apartments Struga</td>\n      <td>apartment</td>\n      <td>NaN</td>\n      <td>2</td>\n      <td>NaN</td>\n      <td>NaN</td>\n      <td>Struga</td>\n      <td>Струга</td>\n      <td>6330</td>\n      <td>NaN</td>\n      <td>NaN</td>\n      <td>NaN</td>\n      <td>outside</td>\n      <td>NaN</td>\n      <td>yes</td>\n      <td>no</td>\n    </tr>\n    <tr>\n      <th>225</th>\n      <td>1791</td>\n      <td>41.177585</td>\n      <td>20.675587</td>\n      <td>Freya</td>\n      <td>hotel</td>\n      <td>NaN</td>\n      <td>4</td>\n      <td>NaN</td>\n      <td>NaN</td>\n      <td>Struga</td>\n      <td>Струга</td>\n      <td>6330</td>\n      <td>NaN</td>\n      <td>NaN</td>\n      <td>NaN</td>\n      <td>isolated</td>\n      <td>NaN</td>\n      <td>no</td>\n      <td>no</td>\n    </tr>\n    <tr>\n      <th>226</th>\n      <td>1792</td>\n      <td>41.177498</td>\n      <td>20.676868</td>\n      <td>Villa Albi</td>\n      <td>apartment</td>\n      <td>NaN</td>\n      <td>2</td>\n      <td>NaN</td>\n      <td>NaN</td>\n      <td>Struga</td>\n      <td>Струга</td>\n      <td>6330</td>\n      <td>NaN</td>\n      <td>NaN</td>\n      <td>NaN</td>\n      <td>outside</td>\n      <td>NaN</td>\n      <td>yes</td>\n      <td>yes</td>\n    </tr>\n  </tbody>\n</table>\n<p>227 rows × 19 columns</p>\n</div>"
     },
     "execution_count": 147,
     "metadata": {},
     "output_type": "execute_result"
    }
   ],
   "source": [
    "dataset"
   ],
   "metadata": {
    "collapsed": false,
    "pycharm": {
     "name": "#%%\n"
    }
   }
  },
  {
   "cell_type": "code",
   "execution_count": 148,
   "outputs": [],
   "source": [
    "dataset.to_csv('clean_dataset.csv', encoding='utf8')"
   ],
   "metadata": {
    "collapsed": false,
    "pycharm": {
     "name": "#%%\n"
    }
   }
  }
 ],
 "metadata": {
  "kernelspec": {
   "display_name": "Python 3",
   "language": "python",
   "name": "python3"
  },
  "language_info": {
   "codemirror_mode": {
    "name": "ipython",
    "version": 2
   },
   "file_extension": ".py",
   "mimetype": "text/x-python",
   "name": "python",
   "nbconvert_exporter": "python",
   "pygments_lexer": "ipython2",
   "version": "2.7.6"
  }
 },
 "nbformat": 4,
 "nbformat_minor": 0
}